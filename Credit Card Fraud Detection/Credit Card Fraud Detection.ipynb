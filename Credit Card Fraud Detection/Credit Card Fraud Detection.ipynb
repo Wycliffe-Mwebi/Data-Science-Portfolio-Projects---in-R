{
 "cells": [
  {
   "cell_type": "markdown",
   "metadata": {},
   "source": [
    "# Credit Card Fraud Detection\n",
    "## Introduction\n",
    "Billions of dollars are lost every year due to fraudulent credit card transactions and data shows that credit card fraud is rising. Therefore there is an urgent need to develop new, and improve current, fraud detection methods.The design of efficient fraud detection algorithms is key to reducing these losses, and more algorithms rely on advanced machine learning techniques to assist fraud investigators. \n",
    "\n",
    "The design of fraud detection algorithms is however particularly challenging due to non-stationary distribution of the data, highly imbalanced classes distributions and continuous streams of transactions. At the same time public data are scarcely available for confidentiality issues, leaving unanswered many questions about which is the best strategy to deal with them.\n",
    "\n",
    "The dataset here contains transactions made by credit cards in September 2013 by european cardholders. This dataset from Kaggle is available here. This dataset presents transactions that occurred in two days, where we have 492 frauds out of 284,807 transactions. The dataset is highly unbalanced, the positive class (frauds) account for 0.172% of all transactions.\n",
    "\n",
    "It contains only numerical input variables which are the result of a PCA transformation. Unfortunately, due to confidentiality issues, I do not have access to the original features and more background information about the data. Features V1, V2, … V28 are the principal components obtained with PCA, the only features which have not been transformed with PCA are ‘Time’ and ‘Amount’. Feature ‘Time’ contains the seconds elapsed between each transaction and the first transaction in the dataset. The feature ‘Amount’ is the transaction Amount, this feature can be used for example-dependant cost-senstive learning. Feature ‘Class’ is the response variable and it takes value 1 in case of fraud and 0 otherwise.\n",
    "\n",
    "The objective of the project is to train a machine learning algorithm on the dataset to successfully predict fraudulent transactions.\n"
   ]
  },
  {
   "cell_type": "markdown",
   "metadata": {},
   "source": [
    "### Import Libraries"
   ]
  },
  {
   "cell_type": "code",
   "execution_count": 18,
   "metadata": {
    "scrolled": true
   },
   "outputs": [],
   "source": [
    "library(dplyr) # for data manipulation\n",
    "library(stringr) # for data manipulation\n",
    "library(caret) # for sampling\n",
    "library(caTools) # for train/test split\n",
    "library(ggplot2) # for data visualization\n",
    "library(corrplot) # for correlations\n",
    "library(Rtsne) # for tsne plotting\n",
    "library(DMwR) # for smote implementation\n",
    "library(ROSE)# for ROSE sampling\n",
    "library(rpart)# for decision tree model\n",
    "library(Rborist)# for random forest model\n",
    "library(xgboost) # for xgboost model"
   ]
  },
  {
   "cell_type": "code",
   "execution_count": 22,
   "metadata": {},
   "outputs": [],
   "source": [
    "#Load data\n",
    "df =read.csv('C:\\\\Users\\\\wikie\\\\Documents\\\\Datasets\\\\creditcard.csv')"
   ]
  },
  {
   "cell_type": "markdown",
   "metadata": {},
   "source": [
    "### Basic Exploration"
   ]
  },
  {
   "cell_type": "code",
   "execution_count": 23,
   "metadata": {},
   "outputs": [
    {
     "data": {
      "text/html": [
       "<table>\n",
       "<thead><tr><th scope=col>Time</th><th scope=col>V1</th><th scope=col>V2</th><th scope=col>V3</th><th scope=col>V4</th><th scope=col>V5</th><th scope=col>V6</th><th scope=col>V7</th><th scope=col>V8</th><th scope=col>V9</th><th scope=col>...</th><th scope=col>V21</th><th scope=col>V22</th><th scope=col>V23</th><th scope=col>V24</th><th scope=col>V25</th><th scope=col>V26</th><th scope=col>V27</th><th scope=col>V28</th><th scope=col>Amount</th><th scope=col>Class</th></tr></thead>\n",
       "<tbody>\n",
       "\t<tr><td>0           </td><td>-1.3598071  </td><td>-0.07278117 </td><td>2.5363467   </td><td> 1.3781552  </td><td>-0.33832077 </td><td> 0.46238778 </td><td> 0.23959855 </td><td> 0.09869790 </td><td> 0.3637870  </td><td>...         </td><td>-0.018306778</td><td> 0.277837576</td><td>-0.11047391 </td><td> 0.06692807 </td><td> 0.1285394  </td><td>-0.1891148  </td><td> 0.133558377</td><td>-0.02105305 </td><td>149.62      </td><td>0           </td></tr>\n",
       "\t<tr><td>0           </td><td> 1.1918571  </td><td> 0.26615071 </td><td>0.1664801   </td><td> 0.4481541  </td><td> 0.06001765 </td><td>-0.08236081 </td><td>-0.07880298 </td><td> 0.08510165 </td><td>-0.2554251  </td><td>...         </td><td>-0.225775248</td><td>-0.638671953</td><td> 0.10128802 </td><td>-0.33984648 </td><td> 0.1671704  </td><td> 0.1258945  </td><td>-0.008983099</td><td> 0.01472417 </td><td>  2.69      </td><td>0           </td></tr>\n",
       "\t<tr><td>1           </td><td>-1.3583541  </td><td>-1.34016307 </td><td>1.7732093   </td><td> 0.3797796  </td><td>-0.50319813 </td><td> 1.80049938 </td><td> 0.79146096 </td><td> 0.24767579 </td><td>-1.5146543  </td><td>...         </td><td> 0.247998153</td><td> 0.771679402</td><td> 0.90941226 </td><td>-0.68928096 </td><td>-0.3276418  </td><td>-0.1390966  </td><td>-0.055352794</td><td>-0.05975184 </td><td>378.66      </td><td>0           </td></tr>\n",
       "\t<tr><td>1           </td><td>-0.9662717  </td><td>-0.18522601 </td><td>1.7929933   </td><td>-0.8632913  </td><td>-0.01030888 </td><td> 1.24720317 </td><td> 0.23760894 </td><td> 0.37743587 </td><td>-1.3870241  </td><td>...         </td><td>-0.108300452</td><td> 0.005273597</td><td>-0.19032052 </td><td>-1.17557533 </td><td> 0.6473760  </td><td>-0.2219288  </td><td> 0.062722849</td><td> 0.06145763 </td><td>123.50      </td><td>0           </td></tr>\n",
       "\t<tr><td>2           </td><td>-1.1582331  </td><td> 0.87773675 </td><td>1.5487178   </td><td> 0.4030339  </td><td>-0.40719338 </td><td> 0.09592146 </td><td> 0.59294075 </td><td>-0.27053268 </td><td> 0.8177393  </td><td>...         </td><td>-0.009430697</td><td> 0.798278495</td><td>-0.13745808 </td><td> 0.14126698 </td><td>-0.2060096  </td><td> 0.5022922  </td><td> 0.219422230</td><td> 0.21515315 </td><td> 69.99      </td><td>0           </td></tr>\n",
       "\t<tr><td>2           </td><td>-0.4259659  </td><td> 0.96052304 </td><td>1.1411093   </td><td>-0.1682521  </td><td> 0.42098688 </td><td>-0.02972755 </td><td> 0.47620095 </td><td> 0.26031433 </td><td>-0.5686714  </td><td>...         </td><td>-0.208253515</td><td>-0.559824796</td><td>-0.02639767 </td><td>-0.37142658 </td><td>-0.2327938  </td><td> 0.1059148  </td><td> 0.253844225</td><td> 0.08108026 </td><td>  3.67      </td><td>0           </td></tr>\n",
       "</tbody>\n",
       "</table>\n"
      ],
      "text/latex": [
       "\\begin{tabular}{r|lllllllllllllllllllllllllllllll}\n",
       " Time & V1 & V2 & V3 & V4 & V5 & V6 & V7 & V8 & V9 & ... & V21 & V22 & V23 & V24 & V25 & V26 & V27 & V28 & Amount & Class\\\\\n",
       "\\hline\n",
       "\t 0            & -1.3598071   & -0.07278117  & 2.5363467    &  1.3781552   & -0.33832077  &  0.46238778  &  0.23959855  &  0.09869790  &  0.3637870   & ...          & -0.018306778 &  0.277837576 & -0.11047391  &  0.06692807  &  0.1285394   & -0.1891148   &  0.133558377 & -0.02105305  & 149.62       & 0           \\\\\n",
       "\t 0            &  1.1918571   &  0.26615071  & 0.1664801    &  0.4481541   &  0.06001765  & -0.08236081  & -0.07880298  &  0.08510165  & -0.2554251   & ...          & -0.225775248 & -0.638671953 &  0.10128802  & -0.33984648  &  0.1671704   &  0.1258945   & -0.008983099 &  0.01472417  &   2.69       & 0           \\\\\n",
       "\t 1            & -1.3583541   & -1.34016307  & 1.7732093    &  0.3797796   & -0.50319813  &  1.80049938  &  0.79146096  &  0.24767579  & -1.5146543   & ...          &  0.247998153 &  0.771679402 &  0.90941226  & -0.68928096  & -0.3276418   & -0.1390966   & -0.055352794 & -0.05975184  & 378.66       & 0           \\\\\n",
       "\t 1            & -0.9662717   & -0.18522601  & 1.7929933    & -0.8632913   & -0.01030888  &  1.24720317  &  0.23760894  &  0.37743587  & -1.3870241   & ...          & -0.108300452 &  0.005273597 & -0.19032052  & -1.17557533  &  0.6473760   & -0.2219288   &  0.062722849 &  0.06145763  & 123.50       & 0           \\\\\n",
       "\t 2            & -1.1582331   &  0.87773675  & 1.5487178    &  0.4030339   & -0.40719338  &  0.09592146  &  0.59294075  & -0.27053268  &  0.8177393   & ...          & -0.009430697 &  0.798278495 & -0.13745808  &  0.14126698  & -0.2060096   &  0.5022922   &  0.219422230 &  0.21515315  &  69.99       & 0           \\\\\n",
       "\t 2            & -0.4259659   &  0.96052304  & 1.1411093    & -0.1682521   &  0.42098688  & -0.02972755  &  0.47620095  &  0.26031433  & -0.5686714   & ...          & -0.208253515 & -0.559824796 & -0.02639767  & -0.37142658  & -0.2327938   &  0.1059148   &  0.253844225 &  0.08108026  &   3.67       & 0           \\\\\n",
       "\\end{tabular}\n"
      ],
      "text/markdown": [
       "\n",
       "| Time | V1 | V2 | V3 | V4 | V5 | V6 | V7 | V8 | V9 | ... | V21 | V22 | V23 | V24 | V25 | V26 | V27 | V28 | Amount | Class |\n",
       "|---|---|---|---|---|---|---|---|---|---|---|---|---|---|---|---|---|---|---|---|---|\n",
       "| 0            | -1.3598071   | -0.07278117  | 2.5363467    |  1.3781552   | -0.33832077  |  0.46238778  |  0.23959855  |  0.09869790  |  0.3637870   | ...          | -0.018306778 |  0.277837576 | -0.11047391  |  0.06692807  |  0.1285394   | -0.1891148   |  0.133558377 | -0.02105305  | 149.62       | 0            |\n",
       "| 0            |  1.1918571   |  0.26615071  | 0.1664801    |  0.4481541   |  0.06001765  | -0.08236081  | -0.07880298  |  0.08510165  | -0.2554251   | ...          | -0.225775248 | -0.638671953 |  0.10128802  | -0.33984648  |  0.1671704   |  0.1258945   | -0.008983099 |  0.01472417  |   2.69       | 0            |\n",
       "| 1            | -1.3583541   | -1.34016307  | 1.7732093    |  0.3797796   | -0.50319813  |  1.80049938  |  0.79146096  |  0.24767579  | -1.5146543   | ...          |  0.247998153 |  0.771679402 |  0.90941226  | -0.68928096  | -0.3276418   | -0.1390966   | -0.055352794 | -0.05975184  | 378.66       | 0            |\n",
       "| 1            | -0.9662717   | -0.18522601  | 1.7929933    | -0.8632913   | -0.01030888  |  1.24720317  |  0.23760894  |  0.37743587  | -1.3870241   | ...          | -0.108300452 |  0.005273597 | -0.19032052  | -1.17557533  |  0.6473760   | -0.2219288   |  0.062722849 |  0.06145763  | 123.50       | 0            |\n",
       "| 2            | -1.1582331   |  0.87773675  | 1.5487178    |  0.4030339   | -0.40719338  |  0.09592146  |  0.59294075  | -0.27053268  |  0.8177393   | ...          | -0.009430697 |  0.798278495 | -0.13745808  |  0.14126698  | -0.2060096   |  0.5022922   |  0.219422230 |  0.21515315  |  69.99       | 0            |\n",
       "| 2            | -0.4259659   |  0.96052304  | 1.1411093    | -0.1682521   |  0.42098688  | -0.02972755  |  0.47620095  |  0.26031433  | -0.5686714   | ...          | -0.208253515 | -0.559824796 | -0.02639767  | -0.37142658  | -0.2327938   |  0.1059148   |  0.253844225 |  0.08108026  |   3.67       | 0            |\n",
       "\n"
      ],
      "text/plain": [
       "  Time V1         V2          V3        V4         V5          V6         \n",
       "1 0    -1.3598071 -0.07278117 2.5363467  1.3781552 -0.33832077  0.46238778\n",
       "2 0     1.1918571  0.26615071 0.1664801  0.4481541  0.06001765 -0.08236081\n",
       "3 1    -1.3583541 -1.34016307 1.7732093  0.3797796 -0.50319813  1.80049938\n",
       "4 1    -0.9662717 -0.18522601 1.7929933 -0.8632913 -0.01030888  1.24720317\n",
       "5 2    -1.1582331  0.87773675 1.5487178  0.4030339 -0.40719338  0.09592146\n",
       "6 2    -0.4259659  0.96052304 1.1411093 -0.1682521  0.42098688 -0.02972755\n",
       "  V7          V8          V9         ... V21          V22          V23        \n",
       "1  0.23959855  0.09869790  0.3637870 ... -0.018306778  0.277837576 -0.11047391\n",
       "2 -0.07880298  0.08510165 -0.2554251 ... -0.225775248 -0.638671953  0.10128802\n",
       "3  0.79146096  0.24767579 -1.5146543 ...  0.247998153  0.771679402  0.90941226\n",
       "4  0.23760894  0.37743587 -1.3870241 ... -0.108300452  0.005273597 -0.19032052\n",
       "5  0.59294075 -0.27053268  0.8177393 ... -0.009430697  0.798278495 -0.13745808\n",
       "6  0.47620095  0.26031433 -0.5686714 ... -0.208253515 -0.559824796 -0.02639767\n",
       "  V24         V25        V26        V27          V28         Amount Class\n",
       "1  0.06692807  0.1285394 -0.1891148  0.133558377 -0.02105305 149.62 0    \n",
       "2 -0.33984648  0.1671704  0.1258945 -0.008983099  0.01472417   2.69 0    \n",
       "3 -0.68928096 -0.3276418 -0.1390966 -0.055352794 -0.05975184 378.66 0    \n",
       "4 -1.17557533  0.6473760 -0.2219288  0.062722849  0.06145763 123.50 0    \n",
       "5  0.14126698 -0.2060096  0.5022922  0.219422230  0.21515315  69.99 0    \n",
       "6 -0.37142658 -0.2327938  0.1059148  0.253844225  0.08108026   3.67 0    "
      ]
     },
     "metadata": {},
     "output_type": "display_data"
    }
   ],
   "source": [
    "head(df)"
   ]
  },
  {
   "cell_type": "code",
   "execution_count": 24,
   "metadata": {},
   "outputs": [
    {
     "name": "stdout",
     "output_type": "stream",
     "text": [
      "'data.frame':\t284807 obs. of  31 variables:\n",
      " $ Time  : num  0 0 1 1 2 2 4 7 7 9 ...\n",
      " $ V1    : num  -1.36 1.192 -1.358 -0.966 -1.158 ...\n",
      " $ V2    : num  -0.0728 0.2662 -1.3402 -0.1852 0.8777 ...\n",
      " $ V3    : num  2.536 0.166 1.773 1.793 1.549 ...\n",
      " $ V4    : num  1.378 0.448 0.38 -0.863 0.403 ...\n",
      " $ V5    : num  -0.3383 0.06 -0.5032 -0.0103 -0.4072 ...\n",
      " $ V6    : num  0.4624 -0.0824 1.8005 1.2472 0.0959 ...\n",
      " $ V7    : num  0.2396 -0.0788 0.7915 0.2376 0.5929 ...\n",
      " $ V8    : num  0.0987 0.0851 0.2477 0.3774 -0.2705 ...\n",
      " $ V9    : num  0.364 -0.255 -1.515 -1.387 0.818 ...\n",
      " $ V10   : num  0.0908 -0.167 0.2076 -0.055 0.7531 ...\n",
      " $ V11   : num  -0.552 1.613 0.625 -0.226 -0.823 ...\n",
      " $ V12   : num  -0.6178 1.0652 0.0661 0.1782 0.5382 ...\n",
      " $ V13   : num  -0.991 0.489 0.717 0.508 1.346 ...\n",
      " $ V14   : num  -0.311 -0.144 -0.166 -0.288 -1.12 ...\n",
      " $ V15   : num  1.468 0.636 2.346 -0.631 0.175 ...\n",
      " $ V16   : num  -0.47 0.464 -2.89 -1.06 -0.451 ...\n",
      " $ V17   : num  0.208 -0.115 1.11 -0.684 -0.237 ...\n",
      " $ V18   : num  0.0258 -0.1834 -0.1214 1.9658 -0.0382 ...\n",
      " $ V19   : num  0.404 -0.146 -2.262 -1.233 0.803 ...\n",
      " $ V20   : num  0.2514 -0.0691 0.525 -0.208 0.4085 ...\n",
      " $ V21   : num  -0.01831 -0.22578 0.248 -0.1083 -0.00943 ...\n",
      " $ V22   : num  0.27784 -0.63867 0.77168 0.00527 0.79828 ...\n",
      " $ V23   : num  -0.11 0.101 0.909 -0.19 -0.137 ...\n",
      " $ V24   : num  0.0669 -0.3398 -0.6893 -1.1756 0.1413 ...\n",
      " $ V25   : num  0.129 0.167 -0.328 0.647 -0.206 ...\n",
      " $ V26   : num  -0.189 0.126 -0.139 -0.222 0.502 ...\n",
      " $ V27   : num  0.13356 -0.00898 -0.05535 0.06272 0.21942 ...\n",
      " $ V28   : num  -0.0211 0.0147 -0.0598 0.0615 0.2152 ...\n",
      " $ Amount: num  149.62 2.69 378.66 123.5 69.99 ...\n",
      " $ Class : int  0 0 0 0 0 0 0 0 0 0 ...\n"
     ]
    }
   ],
   "source": [
    "str(df)"
   ]
  },
  {
   "cell_type": "markdown",
   "metadata": {},
   "source": [
    "The dataframe has 284807 observations with 31 variables. The variable ‘Class’ indicates whether a transaction is fraudulent(1) or not (0)."
   ]
  },
  {
   "cell_type": "code",
   "execution_count": 25,
   "metadata": {},
   "outputs": [
    {
     "data": {
      "text/plain": [
       "      Time              V1                  V2                  V3          \n",
       " Min.   :     0   Min.   :-56.40751   Min.   :-72.71573   Min.   :-48.3256  \n",
       " 1st Qu.: 54202   1st Qu.: -0.92037   1st Qu.: -0.59855   1st Qu.: -0.8904  \n",
       " Median : 84692   Median :  0.01811   Median :  0.06549   Median :  0.1799  \n",
       " Mean   : 94814   Mean   :  0.00000   Mean   :  0.00000   Mean   :  0.0000  \n",
       " 3rd Qu.:139321   3rd Qu.:  1.31564   3rd Qu.:  0.80372   3rd Qu.:  1.0272  \n",
       " Max.   :172792   Max.   :  2.45493   Max.   : 22.05773   Max.   :  9.3826  \n",
       "       V4                 V5                   V6                 V7          \n",
       " Min.   :-5.68317   Min.   :-113.74331   Min.   :-26.1605   Min.   :-43.5572  \n",
       " 1st Qu.:-0.84864   1st Qu.:  -0.69160   1st Qu.: -0.7683   1st Qu.: -0.5541  \n",
       " Median :-0.01985   Median :  -0.05434   Median : -0.2742   Median :  0.0401  \n",
       " Mean   : 0.00000   Mean   :   0.00000   Mean   :  0.0000   Mean   :  0.0000  \n",
       " 3rd Qu.: 0.74334   3rd Qu.:   0.61193   3rd Qu.:  0.3986   3rd Qu.:  0.5704  \n",
       " Max.   :16.87534   Max.   :  34.80167   Max.   : 73.3016   Max.   :120.5895  \n",
       "       V8                  V9                 V10                 V11          \n",
       " Min.   :-73.21672   Min.   :-13.43407   Min.   :-24.58826   Min.   :-4.79747  \n",
       " 1st Qu.: -0.20863   1st Qu.: -0.64310   1st Qu.: -0.53543   1st Qu.:-0.76249  \n",
       " Median :  0.02236   Median : -0.05143   Median : -0.09292   Median :-0.03276  \n",
       " Mean   :  0.00000   Mean   :  0.00000   Mean   :  0.00000   Mean   : 0.00000  \n",
       " 3rd Qu.:  0.32735   3rd Qu.:  0.59714   3rd Qu.:  0.45392   3rd Qu.: 0.73959  \n",
       " Max.   : 20.00721   Max.   : 15.59500   Max.   : 23.74514   Max.   :12.01891  \n",
       "      V12                V13                V14                V15          \n",
       " Min.   :-18.6837   Min.   :-5.79188   Min.   :-19.2143   Min.   :-4.49894  \n",
       " 1st Qu.: -0.4056   1st Qu.:-0.64854   1st Qu.: -0.4256   1st Qu.:-0.58288  \n",
       " Median :  0.1400   Median :-0.01357   Median :  0.0506   Median : 0.04807  \n",
       " Mean   :  0.0000   Mean   : 0.00000   Mean   :  0.0000   Mean   : 0.00000  \n",
       " 3rd Qu.:  0.6182   3rd Qu.: 0.66251   3rd Qu.:  0.4931   3rd Qu.: 0.64882  \n",
       " Max.   :  7.8484   Max.   : 7.12688   Max.   : 10.5268   Max.   : 8.87774  \n",
       "      V16                 V17                 V18           \n",
       " Min.   :-14.12985   Min.   :-25.16280   Min.   :-9.498746  \n",
       " 1st Qu.: -0.46804   1st Qu.: -0.48375   1st Qu.:-0.498850  \n",
       " Median :  0.06641   Median : -0.06568   Median :-0.003636  \n",
       " Mean   :  0.00000   Mean   :  0.00000   Mean   : 0.000000  \n",
       " 3rd Qu.:  0.52330   3rd Qu.:  0.39968   3rd Qu.: 0.500807  \n",
       " Max.   : 17.31511   Max.   :  9.25353   Max.   : 5.041069  \n",
       "      V19                 V20                 V21           \n",
       " Min.   :-7.213527   Min.   :-54.49772   Min.   :-34.83038  \n",
       " 1st Qu.:-0.456299   1st Qu.: -0.21172   1st Qu.: -0.22839  \n",
       " Median : 0.003735   Median : -0.06248   Median : -0.02945  \n",
       " Mean   : 0.000000   Mean   :  0.00000   Mean   :  0.00000  \n",
       " 3rd Qu.: 0.458949   3rd Qu.:  0.13304   3rd Qu.:  0.18638  \n",
       " Max.   : 5.591971   Max.   : 39.42090   Max.   : 27.20284  \n",
       "      V22                  V23                 V24          \n",
       " Min.   :-10.933144   Min.   :-44.80774   Min.   :-2.83663  \n",
       " 1st Qu.: -0.542350   1st Qu.: -0.16185   1st Qu.:-0.35459  \n",
       " Median :  0.006782   Median : -0.01119   Median : 0.04098  \n",
       " Mean   :  0.000000   Mean   :  0.00000   Mean   : 0.00000  \n",
       " 3rd Qu.:  0.528554   3rd Qu.:  0.14764   3rd Qu.: 0.43953  \n",
       " Max.   : 10.503090   Max.   : 22.52841   Max.   : 4.58455  \n",
       "      V25                 V26                V27            \n",
       " Min.   :-10.29540   Min.   :-2.60455   Min.   :-22.565679  \n",
       " 1st Qu.: -0.31715   1st Qu.:-0.32698   1st Qu.: -0.070840  \n",
       " Median :  0.01659   Median :-0.05214   Median :  0.001342  \n",
       " Mean   :  0.00000   Mean   : 0.00000   Mean   :  0.000000  \n",
       " 3rd Qu.:  0.35072   3rd Qu.: 0.24095   3rd Qu.:  0.091045  \n",
       " Max.   :  7.51959   Max.   : 3.51735   Max.   : 31.612198  \n",
       "      V28                Amount             Class         \n",
       " Min.   :-15.43008   Min.   :    0.00   Min.   :0.000000  \n",
       " 1st Qu.: -0.05296   1st Qu.:    5.60   1st Qu.:0.000000  \n",
       " Median :  0.01124   Median :   22.00   Median :0.000000  \n",
       " Mean   :  0.00000   Mean   :   88.35   Mean   :0.001728  \n",
       " 3rd Qu.:  0.07828   3rd Qu.:   77.17   3rd Qu.:0.000000  \n",
       " Max.   : 33.84781   Max.   :25691.16   Max.   :1.000000  "
      ]
     },
     "metadata": {},
     "output_type": "display_data"
    }
   ],
   "source": [
    "summary(df)"
   ]
  },
  {
   "cell_type": "markdown",
   "metadata": {},
   "source": [
    "All the anonymised features seem to have been be normalised with mean 0. We will apply that transformation to the “Amount” column later on to facilitate training ML models."
   ]
  },
  {
   "cell_type": "code",
   "execution_count": 26,
   "metadata": {},
   "outputs": [
    {
     "data": {
      "text/html": [
       "<dl class=dl-horizontal>\n",
       "\t<dt>Time</dt>\n",
       "\t\t<dd>0</dd>\n",
       "\t<dt>V1</dt>\n",
       "\t\t<dd>0</dd>\n",
       "\t<dt>V2</dt>\n",
       "\t\t<dd>0</dd>\n",
       "\t<dt>V3</dt>\n",
       "\t\t<dd>0</dd>\n",
       "\t<dt>V4</dt>\n",
       "\t\t<dd>0</dd>\n",
       "\t<dt>V5</dt>\n",
       "\t\t<dd>0</dd>\n",
       "\t<dt>V6</dt>\n",
       "\t\t<dd>0</dd>\n",
       "\t<dt>V7</dt>\n",
       "\t\t<dd>0</dd>\n",
       "\t<dt>V8</dt>\n",
       "\t\t<dd>0</dd>\n",
       "\t<dt>V9</dt>\n",
       "\t\t<dd>0</dd>\n",
       "\t<dt>V10</dt>\n",
       "\t\t<dd>0</dd>\n",
       "\t<dt>V11</dt>\n",
       "\t\t<dd>0</dd>\n",
       "\t<dt>V12</dt>\n",
       "\t\t<dd>0</dd>\n",
       "\t<dt>V13</dt>\n",
       "\t\t<dd>0</dd>\n",
       "\t<dt>V14</dt>\n",
       "\t\t<dd>0</dd>\n",
       "\t<dt>V15</dt>\n",
       "\t\t<dd>0</dd>\n",
       "\t<dt>V16</dt>\n",
       "\t\t<dd>0</dd>\n",
       "\t<dt>V17</dt>\n",
       "\t\t<dd>0</dd>\n",
       "\t<dt>V18</dt>\n",
       "\t\t<dd>0</dd>\n",
       "\t<dt>V19</dt>\n",
       "\t\t<dd>0</dd>\n",
       "\t<dt>V20</dt>\n",
       "\t\t<dd>0</dd>\n",
       "\t<dt>V21</dt>\n",
       "\t\t<dd>0</dd>\n",
       "\t<dt>V22</dt>\n",
       "\t\t<dd>0</dd>\n",
       "\t<dt>V23</dt>\n",
       "\t\t<dd>0</dd>\n",
       "\t<dt>V24</dt>\n",
       "\t\t<dd>0</dd>\n",
       "\t<dt>V25</dt>\n",
       "\t\t<dd>0</dd>\n",
       "\t<dt>V26</dt>\n",
       "\t\t<dd>0</dd>\n",
       "\t<dt>V27</dt>\n",
       "\t\t<dd>0</dd>\n",
       "\t<dt>V28</dt>\n",
       "\t\t<dd>0</dd>\n",
       "\t<dt>Amount</dt>\n",
       "\t\t<dd>0</dd>\n",
       "\t<dt>Class</dt>\n",
       "\t\t<dd>0</dd>\n",
       "</dl>\n"
      ],
      "text/latex": [
       "\\begin{description*}\n",
       "\\item[Time] 0\n",
       "\\item[V1] 0\n",
       "\\item[V2] 0\n",
       "\\item[V3] 0\n",
       "\\item[V4] 0\n",
       "\\item[V5] 0\n",
       "\\item[V6] 0\n",
       "\\item[V7] 0\n",
       "\\item[V8] 0\n",
       "\\item[V9] 0\n",
       "\\item[V10] 0\n",
       "\\item[V11] 0\n",
       "\\item[V12] 0\n",
       "\\item[V13] 0\n",
       "\\item[V14] 0\n",
       "\\item[V15] 0\n",
       "\\item[V16] 0\n",
       "\\item[V17] 0\n",
       "\\item[V18] 0\n",
       "\\item[V19] 0\n",
       "\\item[V20] 0\n",
       "\\item[V21] 0\n",
       "\\item[V22] 0\n",
       "\\item[V23] 0\n",
       "\\item[V24] 0\n",
       "\\item[V25] 0\n",
       "\\item[V26] 0\n",
       "\\item[V27] 0\n",
       "\\item[V28] 0\n",
       "\\item[Amount] 0\n",
       "\\item[Class] 0\n",
       "\\end{description*}\n"
      ],
      "text/markdown": [
       "Time\n",
       ":   0V1\n",
       ":   0V2\n",
       ":   0V3\n",
       ":   0V4\n",
       ":   0V5\n",
       ":   0V6\n",
       ":   0V7\n",
       ":   0V8\n",
       ":   0V9\n",
       ":   0V10\n",
       ":   0V11\n",
       ":   0V12\n",
       ":   0V13\n",
       ":   0V14\n",
       ":   0V15\n",
       ":   0V16\n",
       ":   0V17\n",
       ":   0V18\n",
       ":   0V19\n",
       ":   0V20\n",
       ":   0V21\n",
       ":   0V22\n",
       ":   0V23\n",
       ":   0V24\n",
       ":   0V25\n",
       ":   0V26\n",
       ":   0V27\n",
       ":   0V28\n",
       ":   0Amount\n",
       ":   0Class\n",
       ":   0\n",
       "\n"
      ],
      "text/plain": [
       "  Time     V1     V2     V3     V4     V5     V6     V7     V8     V9    V10 \n",
       "     0      0      0      0      0      0      0      0      0      0      0 \n",
       "   V11    V12    V13    V14    V15    V16    V17    V18    V19    V20    V21 \n",
       "     0      0      0      0      0      0      0      0      0      0      0 \n",
       "   V22    V23    V24    V25    V26    V27    V28 Amount  Class \n",
       "     0      0      0      0      0      0      0      0      0 "
      ]
     },
     "metadata": {},
     "output_type": "display_data"
    }
   ],
   "source": [
    "#Check for missing values\n",
    "colSums(is.na(df))"
   ]
  },
  {
   "cell_type": "markdown",
   "metadata": {},
   "source": [
    "None of the variables have missing values"
   ]
  },
  {
   "cell_type": "code",
   "execution_count": 27,
   "metadata": {},
   "outputs": [
    {
     "data": {
      "text/plain": [
       "\n",
       "     0      1 \n",
       "284315    492 "
      ]
     },
     "metadata": {},
     "output_type": "display_data"
    }
   ],
   "source": [
    "#Check class imbalance\n",
    "table(df$Class)"
   ]
  },
  {
   "cell_type": "code",
   "execution_count": 28,
   "metadata": {},
   "outputs": [
    {
     "data": {
      "text/plain": [
       "\n",
       "          0           1 \n",
       "0.998272514 0.001727486 "
      ]
     },
     "metadata": {},
     "output_type": "display_data"
    }
   ],
   "source": [
    "prop.table(table(df$Class))"
   ]
  },
  {
   "cell_type": "code",
   "execution_count": 29,
   "metadata": {},
   "outputs": [
    {
     "data": {
      "image/png": "[encoded data removed]",
      "text/plain": [
       "plot without title"
      ]
     },
     "metadata": {},
     "output_type": "display_data"
    }
   ],
   "source": [
    "common_theme <- theme(plot.title = element_text(hjust = 0.5, face = \"bold\"))\n",
    "\n",
    "ggplot(data = df, aes(x = factor(Class), \n",
    "                          y = prop.table(stat(count)), fill = factor(Class),\n",
    "                          label = scales::percent(prop.table(stat(count))))) +\n",
    "    geom_bar(position = \"dodge\") + \n",
    "    geom_text(stat = 'count',\n",
    "              position = position_dodge(.9), \n",
    "              vjust = -0.5, \n",
    "              size = 3) + \n",
    "    scale_x_discrete(labels = c(\"no fraud\", \"fraud\"))+\n",
    "    scale_y_continuous(labels = scales::percent)+\n",
    "    labs(x = 'Class', y = 'Percentage') +\n",
    "    ggtitle(\"Distribution of class labels\") +\n",
    "    common_theme"
   ]
  },
  {
   "cell_type": "markdown",
   "metadata": {},
   "source": [
    "Clearly the dataset is very imbalanced with 99.8% of cases being non-fraudulent transactions. A simple measure like accuracy is not appropriate here as even a classifier which labels all transactions as non-fraudulent will have over 99% accuracy. An appropriate measure of model performance here would be AUC (Area Under the Precision-Recall Curve)."
   ]
  },
  {
   "cell_type": "markdown",
   "metadata": {},
   "source": [
    "## Data Visualization\n",
    "### Distribution of variable ‘Time’ by class"
   ]
  },
  {
   "cell_type": "code",
   "execution_count": 30,
   "metadata": {},
   "outputs": [
    {
     "data": {
      "image/png": "[encoded data removed]",
      "text/plain": [
       "plot without title"
      ]
     },
     "metadata": {},
     "output_type": "display_data"
    }
   ],
   "source": [
    "df %>%\n",
    "  ggplot(aes(x = Time, fill = factor(Class))) + geom_histogram(bins = 100)+\n",
    "  labs(x = 'Time in seconds since first transaction', y = 'No. of transactions') +\n",
    "  ggtitle('Distribution of time of transaction by class') +\n",
    "  facet_grid(Class ~ ., scales = 'free_y') + common_theme"
   ]
  },
  {
   "cell_type": "markdown",
   "metadata": {},
   "source": [
    "The ‘Time’ feature looks pretty similar across both types of transactions. One could argue that fraudulent transactions are more uniformly distributed, while normal transactions have a cyclical distribution.\n",
    "\n",
    "#### Distribution of variable ‘Amount’ by class"
   ]
  },
  {
   "cell_type": "code",
   "execution_count": 31,
   "metadata": {},
   "outputs": [
    {
     "data": {
      "image/png": "[encoded data removed]",
      "text/plain": [
       "plot without title"
      ]
     },
     "metadata": {},
     "output_type": "display_data"
    }
   ],
   "source": [
    "ggplot(df, aes(x = factor(Class), y = Amount)) + geom_boxplot() + \n",
    "labs(x = 'Class', y = 'Amount') +\n",
    "ggtitle(\"Distribution of transaction amount by class\") + common_theme"
   ]
  },
  {
   "cell_type": "markdown",
   "metadata": {},
   "source": [
    "There is clearly a lot more variability in the transaction values for non-fraudulent transactions.\n",
    "\n",
    "#### Correlation of anonymised variables and ‘Amount’"
   ]
  },
  {
   "cell_type": "code",
   "execution_count": 32,
   "metadata": {},
   "outputs": [
    {
     "data": {
      "image/png": "[encoded data removed]",
      "text/plain": [
       "Plot with title \"\""
      ]
     },
     "metadata": {},
     "output_type": "display_data"
    }
   ],
   "source": [
    "correlations <- cor(df[,-1],method=\"pearson\")\n",
    "corrplot(correlations, number.cex = .9, method = \"circle\", type = \"full\", tl.cex=0.8,tl.col = \"black\")"
   ]
  },
  {
   "cell_type": "markdown",
   "metadata": {},
   "source": [
    "We observe that most of the data features are not correlated. This is because before publishing, most of the features were presented to a Principal Component Analysis (PCA) algorithm. The features V1 to V28 are most probably the Principal Components resulted after propagating the real features through PCA. We do not know if the numbering of the features reflects the importance of the Principal Components.\n",
    "\n",
    "#### Visualization of transactions using t-SNE\n",
    "\n",
    "To try to understand the data better, we will try visualizing the data using t-Distributed Stochastic Neighbour Embedding, a technique to reduce dimensionality using Barnes-Hut approximations.\n",
    "\n",
    "To train the model, perplexity was set to 20.\n",
    "\n",
    "The visualisation should give us a hint as to whether there exist any “discoverable” patterns in the data which the model could learn. If there is no obvious structure in the data, it is more likely that the model will perform poorly."
   ]
  },
  {
   "cell_type": "code",
   "execution_count": 33,
   "metadata": {},
   "outputs": [
    {
     "data": {
      "image/png": "[encoded data removed]",
      "text/plain": [
       "plot without title"
      ]
     },
     "metadata": {},
     "output_type": "display_data"
    }
   ],
   "source": [
    "# Use 10% of data to compute t-SNE\n",
    "tsne_subset <- 1:as.integer(0.1*nrow(df))\n",
    "tsne <- Rtsne(df[tsne_subset,-c(1, 31)], perplexity = 20, theta = 0.5, pca = F, verbose = F, max_iter = 500, check_duplicates = F)\n",
    "\n",
    "classes <- as.factor(df$Class[tsne_subset])\n",
    "tsne_mat <- as.data.frame(tsne$Y)\n",
    "ggplot(tsne_mat, aes(x = V1, y = V2)) + geom_point(aes(color = classes)) + theme_minimal() + common_theme + ggtitle(\"t-SNE visualisation of transactions\") + scale_color_manual(values = c(\"#E69F00\", \"#56B4E9\"))"
   ]
  },
  {
   "cell_type": "markdown",
   "metadata": {},
   "source": [
    "There appears to be a separation between the two classes as most fraudulent transactions seem to lie near the edge of the blob of data."
   ]
  },
  {
   "cell_type": "markdown",
   "metadata": {},
   "source": [
    "## Modeling Approach\n",
    "Standard machine learning algorithms struggle with accuracy on imbalanced data for the following reasons:\n",
    "\n",
    "1. ML algorithms struggle with accuracy because of the unequal distribution in dependent variable.This causes the performance of existing classifiers to get biased towards majority class.\n",
    "2. The algorithms are accuracy driven i.e. they aim to minimize the overall error to which the minority class contributes very little.\n",
    "3. ML algorithms assume that the data set has balanced class distributions.\n",
    "4. They also assume that errors obtained from different classes have same cost\n",
    "\n",
    "The methods to deal with this problem are widely known as ‘Sampling Methods’. Generally, these methods aim to modify an imbalanced data into balanced distribution using some mechanism. The modification occurs by altering the size of original data set and provide the same proportion of balance.\n",
    "\n",
    "These methods have acquired higher importance after many researches have proved that balanced data results in improved overall classification performance compared to an imbalanced data set. Hence, it’s important to learn them.\n",
    "\n",
    "Below are the methods used here to treat the imbalanced dataset:\n",
    "\n",
    "- Undersampling\n",
    "- Oversampling\n",
    "- Synthetic Data Generation\n",
    "\n",
    "#### Undersampling\n",
    "\n",
    "This method reduces the number of observations from majority class to make the data set balanced. This method is best to use when the data set is huge and reducing the number of training samples helps to improve run time and storage troubles.\n",
    "\n",
    "Undersampling methods are of 2 types: Random and Informative.\n",
    "\n",
    "Random undersampling method randomly chooses observations from majority class which are eliminated until the data set gets balanced. Informative undersampling follows a pre-specified selection criterion to remove the observations from majority class.\n",
    "\n",
    "A possible problem with this method is that removing observations may cause the training data to lose important information pertaining to majority class.\n",
    "\n",
    "#### Oversampling\n",
    "\n",
    "This method works with minority class. It replicates the observations from minority class to balance the data. It is also known as upsampling. Similar to undersampling, this method also can be divided into two types: Random Oversampling and Informative Oversampling.\n",
    "\n",
    "Random oversampling balances the data by randomly oversampling the minority class. Informative oversampling uses a pre-specified criterion and synthetically generates minority class observations.\n",
    "\n",
    "An advantage of using this method is that it leads to no information loss. The disadvantage of using this method is that, since oversampling simply adds replicated observations in original data set, it ends up adding multiple observations of several types, thus leading to overfitting.\n",
    "\n",
    "#### Synthetic Data Generation (SMOTE and ROSE)\n",
    "\n",
    "In simple words, instead of replicating and adding the observations from the minority class, it overcome imbalances by generates artificial data. It is also a type of oversampling technique.\n",
    "\n",
    "In regards to synthetic data generation, synthetic minority oversampling technique (SMOTE) is a powerful and widely used method. SMOTE algorithm draws artificial samples by choosing points that lie on the line connecting the rare observation to one of its nearest neighbors in the feature space. ROSE (random over-sampling examples) uses smoothed bootstrapping to draw artificial samples from the feature space neighbourhood around the minority class.\n",
    "\n",
    "#### It is important to note that sampling techniques should only be applied to the training set and not the testing set.\n",
    "\n",
    "Our modeling approach will involve training a single classifier on the train set with class imbalance suitably altered using each of the techniques above. Depending on which technique yields the best roc-auc score on a holdout test set. we will build subsequent models using that chosen technique."
   ]
  },
  {
   "cell_type": "markdown",
   "metadata": {},
   "source": [
    "## Data Preparation\n",
    "‘Time’ feature does not indicate the actual time of the transaction and is more of listing the data in chronological order. Based on the data visualization above we assume that ‘Time’ feature has little or no significance in correctly classifying a fraud transaction and hence eliminate this column from further analysis."
   ]
  },
  {
   "cell_type": "code",
   "execution_count": 34,
   "metadata": {},
   "outputs": [],
   "source": [
    "#Remove 'Time' variable\n",
    "df <- df[,-1]"
   ]
  },
  {
   "cell_type": "code",
   "execution_count": 35,
   "metadata": {},
   "outputs": [
    {
     "data": {
      "text/html": [
       "<table>\n",
       "<thead><tr><th scope=col>V1</th><th scope=col>V2</th><th scope=col>V3</th><th scope=col>V4</th><th scope=col>V5</th><th scope=col>V6</th><th scope=col>V7</th><th scope=col>V8</th><th scope=col>V9</th><th scope=col>V10</th><th scope=col>...</th><th scope=col>V21</th><th scope=col>V22</th><th scope=col>V23</th><th scope=col>V24</th><th scope=col>V25</th><th scope=col>V26</th><th scope=col>V27</th><th scope=col>V28</th><th scope=col>Amount</th><th scope=col>Class</th></tr></thead>\n",
       "<tbody>\n",
       "\t<tr><td>-0.6942411  </td><td>-0.04407485 </td><td>1.6727706   </td><td> 0.9733638  </td><td>-0.245116153</td><td> 0.34706734 </td><td> 0.1936786  </td><td> 0.08263713 </td><td> 0.3311272  </td><td> 0.08338540 </td><td>...         </td><td>-0.02492332 </td><td> 0.382853766</td><td>-0.17691102 </td><td> 0.1105067  </td><td> 0.2465850  </td><td>-0.3921697  </td><td> 0.33089104 </td><td>-0.06378104 </td><td> 0.24496383 </td><td>Not_Fraud   </td></tr>\n",
       "\t<tr><td> 0.6084953  </td><td> 0.16117564 </td><td>0.1097969   </td><td> 0.3165224  </td><td> 0.043483276</td><td>-0.06181986 </td><td>-0.0637001  </td><td> 0.07125336 </td><td>-0.2324938  </td><td>-0.15334936 </td><td>...         </td><td>-0.30737626 </td><td>-0.880075209</td><td> 0.16220090 </td><td>-0.5611296  </td><td> 0.3206933  </td><td> 0.2610690  </td><td>-0.02225564 </td><td> 0.04460744 </td><td>-0.34247394 </td><td>Not_Fraud   </td></tr>\n",
       "\t<tr><td>-0.6934992  </td><td>-0.81157640 </td><td>1.1694664   </td><td> 0.2682308  </td><td>-0.364571146</td><td> 1.35145121 </td><td> 0.6397745  </td><td> 0.20737237 </td><td>-1.3786729  </td><td> 0.19069928 </td><td>...         </td><td> 0.33763110 </td><td> 1.063356404</td><td> 1.45631719 </td><td>-1.1380901  </td><td>-0.6285356  </td><td>-0.2884462  </td><td>-0.13713661 </td><td>-0.18102051 </td><td> 1.16068389 </td><td>Not_Fraud   </td></tr>\n",
       "\t<tr><td>-0.4933240  </td><td>-0.11216923 </td><td>1.1825144   </td><td>-0.6097256  </td><td>-0.007468867</td><td> 0.93614819 </td><td> 0.1920703  </td><td> 0.31601704 </td><td>-1.2625010  </td><td>-0.05046786 </td><td>...         </td><td>-0.14744304 </td><td> 0.007266895</td><td>-0.30477601 </td><td>-1.9410237  </td><td> 1.2419015  </td><td>-0.4602165  </td><td> 0.15539593 </td><td> 0.18618826 </td><td> 0.14053401 </td><td>Not_Fraud   </td></tr>\n",
       "\t<tr><td>-0.5913287  </td><td> 0.53154012 </td><td>1.0214099   </td><td> 0.2846549  </td><td>-0.295014918</td><td> 0.07199846 </td><td> 0.4793014  </td><td>-0.22650983 </td><td> 0.7443250  </td><td> 0.69162382 </td><td>...         </td><td>-0.01283920 </td><td> 1.100009340</td><td>-0.22012301 </td><td> 0.2332497  </td><td>-0.3952009  </td><td> 1.0416095  </td><td> 0.54361884 </td><td> 0.65181477 </td><td>-0.07340321 </td><td>Not_Fraud   </td></tr>\n",
       "\t<tr><td>-0.2174742  </td><td> 0.58167387 </td><td>0.7525841   </td><td>-0.1188331  </td><td> 0.305008424</td><td>-0.02231344 </td><td> 0.3849353  </td><td> 0.21795429 </td><td>-0.5176177  </td><td>-0.34110050 </td><td>...         </td><td>-0.28352172 </td><td>-0.771425648</td><td>-0.04227277 </td><td>-0.6132723  </td><td>-0.4465828  </td><td> 0.2196368  </td><td> 0.62889938 </td><td> 0.24563577 </td><td>-0.33855582 </td><td>Not_Fraud   </td></tr>\n",
       "</tbody>\n",
       "</table>\n"
      ],
      "text/latex": [
       "\\begin{tabular}{r|llllllllllllllllllllllllllllll}\n",
       " V1 & V2 & V3 & V4 & V5 & V6 & V7 & V8 & V9 & V10 & ... & V21 & V22 & V23 & V24 & V25 & V26 & V27 & V28 & Amount & Class\\\\\n",
       "\\hline\n",
       "\t -0.6942411   & -0.04407485  & 1.6727706    &  0.9733638   & -0.245116153 &  0.34706734  &  0.1936786   &  0.08263713  &  0.3311272   &  0.08338540  & ...          & -0.02492332  &  0.382853766 & -0.17691102  &  0.1105067   &  0.2465850   & -0.3921697   &  0.33089104  & -0.06378104  &  0.24496383  & Not\\_Fraud \\\\\n",
       "\t  0.6084953   &  0.16117564  & 0.1097969    &  0.3165224   &  0.043483276 & -0.06181986  & -0.0637001   &  0.07125336  & -0.2324938   & -0.15334936  & ...          & -0.30737626  & -0.880075209 &  0.16220090  & -0.5611296   &  0.3206933   &  0.2610690   & -0.02225564  &  0.04460744  & -0.34247394  & Not\\_Fraud \\\\\n",
       "\t -0.6934992   & -0.81157640  & 1.1694664    &  0.2682308   & -0.364571146 &  1.35145121  &  0.6397745   &  0.20737237  & -1.3786729   &  0.19069928  & ...          &  0.33763110  &  1.063356404 &  1.45631719  & -1.1380901   & -0.6285356   & -0.2884462   & -0.13713661  & -0.18102051  &  1.16068389  & Not\\_Fraud \\\\\n",
       "\t -0.4933240   & -0.11216923  & 1.1825144    & -0.6097256   & -0.007468867 &  0.93614819  &  0.1920703   &  0.31601704  & -1.2625010   & -0.05046786  & ...          & -0.14744304  &  0.007266895 & -0.30477601  & -1.9410237   &  1.2419015   & -0.4602165   &  0.15539593  &  0.18618826  &  0.14053401  & Not\\_Fraud \\\\\n",
       "\t -0.5913287   &  0.53154012  & 1.0214099    &  0.2846549   & -0.295014918 &  0.07199846  &  0.4793014   & -0.22650983  &  0.7443250   &  0.69162382  & ...          & -0.01283920  &  1.100009340 & -0.22012301  &  0.2332497   & -0.3952009   &  1.0416095   &  0.54361884  &  0.65181477  & -0.07340321  & Not\\_Fraud \\\\\n",
       "\t -0.2174742   &  0.58167387  & 0.7525841    & -0.1188331   &  0.305008424 & -0.02231344  &  0.3849353   &  0.21795429  & -0.5176177   & -0.34110050  & ...          & -0.28352172  & -0.771425648 & -0.04227277  & -0.6132723   & -0.4465828   &  0.2196368   &  0.62889938  &  0.24563577  & -0.33855582  & Not\\_Fraud \\\\\n",
       "\\end{tabular}\n"
      ],
      "text/markdown": [
       "\n",
       "| V1 | V2 | V3 | V4 | V5 | V6 | V7 | V8 | V9 | V10 | ... | V21 | V22 | V23 | V24 | V25 | V26 | V27 | V28 | Amount | Class |\n",
       "|---|---|---|---|---|---|---|---|---|---|---|---|---|---|---|---|---|---|---|---|---|\n",
       "| -0.6942411   | -0.04407485  | 1.6727706    |  0.9733638   | -0.245116153 |  0.34706734  |  0.1936786   |  0.08263713  |  0.3311272   |  0.08338540  | ...          | -0.02492332  |  0.382853766 | -0.17691102  |  0.1105067   |  0.2465850   | -0.3921697   |  0.33089104  | -0.06378104  |  0.24496383  | Not_Fraud    |\n",
       "|  0.6084953   |  0.16117564  | 0.1097969    |  0.3165224   |  0.043483276 | -0.06181986  | -0.0637001   |  0.07125336  | -0.2324938   | -0.15334936  | ...          | -0.30737626  | -0.880075209 |  0.16220090  | -0.5611296   |  0.3206933   |  0.2610690   | -0.02225564  |  0.04460744  | -0.34247394  | Not_Fraud    |\n",
       "| -0.6934992   | -0.81157640  | 1.1694664    |  0.2682308   | -0.364571146 |  1.35145121  |  0.6397745   |  0.20737237  | -1.3786729   |  0.19069928  | ...          |  0.33763110  |  1.063356404 |  1.45631719  | -1.1380901   | -0.6285356   | -0.2884462   | -0.13713661  | -0.18102051  |  1.16068389  | Not_Fraud    |\n",
       "| -0.4933240   | -0.11216923  | 1.1825144    | -0.6097256   | -0.007468867 |  0.93614819  |  0.1920703   |  0.31601704  | -1.2625010   | -0.05046786  | ...          | -0.14744304  |  0.007266895 | -0.30477601  | -1.9410237   |  1.2419015   | -0.4602165   |  0.15539593  |  0.18618826  |  0.14053401  | Not_Fraud    |\n",
       "| -0.5913287   |  0.53154012  | 1.0214099    |  0.2846549   | -0.295014918 |  0.07199846  |  0.4793014   | -0.22650983  |  0.7443250   |  0.69162382  | ...          | -0.01283920  |  1.100009340 | -0.22012301  |  0.2332497   | -0.3952009   |  1.0416095   |  0.54361884  |  0.65181477  | -0.07340321  | Not_Fraud    |\n",
       "| -0.2174742   |  0.58167387  | 0.7525841    | -0.1188331   |  0.305008424 | -0.02231344  |  0.3849353   |  0.21795429  | -0.5176177   | -0.34110050  | ...          | -0.28352172  | -0.771425648 | -0.04227277  | -0.6132723   | -0.4465828   |  0.2196368   |  0.62889938  |  0.24563577  | -0.33855582  | Not_Fraud    |\n",
       "\n"
      ],
      "text/plain": [
       "  V1         V2          V3        V4         V5           V6         \n",
       "1 -0.6942411 -0.04407485 1.6727706  0.9733638 -0.245116153  0.34706734\n",
       "2  0.6084953  0.16117564 0.1097969  0.3165224  0.043483276 -0.06181986\n",
       "3 -0.6934992 -0.81157640 1.1694664  0.2682308 -0.364571146  1.35145121\n",
       "4 -0.4933240 -0.11216923 1.1825144 -0.6097256 -0.007468867  0.93614819\n",
       "5 -0.5913287  0.53154012 1.0214099  0.2846549 -0.295014918  0.07199846\n",
       "6 -0.2174742  0.58167387 0.7525841 -0.1188331  0.305008424 -0.02231344\n",
       "  V7         V8          V9         V10         ... V21         V22         \n",
       "1  0.1936786  0.08263713  0.3311272  0.08338540 ... -0.02492332  0.382853766\n",
       "2 -0.0637001  0.07125336 -0.2324938 -0.15334936 ... -0.30737626 -0.880075209\n",
       "3  0.6397745  0.20737237 -1.3786729  0.19069928 ...  0.33763110  1.063356404\n",
       "4  0.1920703  0.31601704 -1.2625010 -0.05046786 ... -0.14744304  0.007266895\n",
       "5  0.4793014 -0.22650983  0.7443250  0.69162382 ... -0.01283920  1.100009340\n",
       "6  0.3849353  0.21795429 -0.5176177 -0.34110050 ... -0.28352172 -0.771425648\n",
       "  V23         V24        V25        V26        V27         V28        \n",
       "1 -0.17691102  0.1105067  0.2465850 -0.3921697  0.33089104 -0.06378104\n",
       "2  0.16220090 -0.5611296  0.3206933  0.2610690 -0.02225564  0.04460744\n",
       "3  1.45631719 -1.1380901 -0.6285356 -0.2884462 -0.13713661 -0.18102051\n",
       "4 -0.30477601 -1.9410237  1.2419015 -0.4602165  0.15539593  0.18618826\n",
       "5 -0.22012301  0.2332497 -0.3952009  1.0416095  0.54361884  0.65181477\n",
       "6 -0.04227277 -0.6132723 -0.4465828  0.2196368  0.62889938  0.24563577\n",
       "  Amount      Class    \n",
       "1  0.24496383 Not_Fraud\n",
       "2 -0.34247394 Not_Fraud\n",
       "3  1.16068389 Not_Fraud\n",
       "4  0.14053401 Not_Fraud\n",
       "5 -0.07340321 Not_Fraud\n",
       "6 -0.33855582 Not_Fraud"
      ]
     },
     "metadata": {},
     "output_type": "display_data"
    }
   ],
   "source": [
    "#Change 'Class' variable to factor\n",
    "df$Class <- as.factor(df$Class)\n",
    "levels(df$Class) <- c(\"Not_Fraud\", \"Fraud\")\n",
    "\n",
    "#Scale numeric variables\n",
    "\n",
    "df[,-30] <- scale(df[,-30])\n",
    "\n",
    "head(df)"
   ]
  },
  {
   "cell_type": "markdown",
   "metadata": {},
   "source": [
    "Split data into train and test sets"
   ]
  },
  {
   "cell_type": "code",
   "execution_count": 36,
   "metadata": {},
   "outputs": [],
   "source": [
    "set.seed(123)\n",
    "split <- sample.split(df$Class, SplitRatio = 0.7)\n",
    "train <-  subset(df, split == TRUE)\n",
    "test <- subset(df, split == FALSE)"
   ]
  },
  {
   "cell_type": "markdown",
   "metadata": {},
   "source": [
    "## Choosing sampling technique\n",
    "Let us create different versions of the training set as per sampling technique"
   ]
  },
  {
   "cell_type": "code",
   "execution_count": 37,
   "metadata": {},
   "outputs": [
    {
     "data": {
      "text/plain": [
       "\n",
       "Not_Fraud     Fraud \n",
       "   199020       344 "
      ]
     },
     "metadata": {},
     "output_type": "display_data"
    }
   ],
   "source": [
    "table(train$Class)"
   ]
  },
  {
   "cell_type": "code",
   "execution_count": 38,
   "metadata": {},
   "outputs": [
    {
     "data": {
      "text/plain": [
       "\n",
       "Not_Fraud     Fraud \n",
       "      344       344 "
      ]
     },
     "metadata": {},
     "output_type": "display_data"
    }
   ],
   "source": [
    "set.seed(9560)\n",
    "down_train <- downSample(x = train[, -ncol(train)],\n",
    "                         y = train$Class)\n",
    "table(down_train$Class)  "
   ]
  },
  {
   "cell_type": "code",
   "execution_count": 39,
   "metadata": {},
   "outputs": [
    {
     "data": {
      "text/plain": [
       "\n",
       "Not_Fraud     Fraud \n",
       "   199020    199020 "
      ]
     },
     "metadata": {},
     "output_type": "display_data"
    }
   ],
   "source": [
    "set.seed(9560)\n",
    "up_train <- upSample(x = train[, -ncol(train)],\n",
    "                         y = train$Class)\n",
    "table(up_train$Class)  "
   ]
  },
  {
   "cell_type": "code",
   "execution_count": 40,
   "metadata": {},
   "outputs": [
    {
     "data": {
      "text/plain": [
       "\n",
       "Not_Fraud     Fraud \n",
       "     1376      1032 "
      ]
     },
     "metadata": {},
     "output_type": "display_data"
    }
   ],
   "source": [
    "set.seed(9560)\n",
    "smote_train <- SMOTE(Class ~ ., data  = train)\n",
    "\n",
    "table(smote_train$Class)  "
   ]
  },
  {
   "cell_type": "code",
   "execution_count": 41,
   "metadata": {},
   "outputs": [
    {
     "data": {
      "text/plain": [
       "\n",
       "Not_Fraud     Fraud \n",
       "    99844     99520 "
      ]
     },
     "metadata": {},
     "output_type": "display_data"
    }
   ],
   "source": [
    "set.seed(9560)\n",
    "rose_train <- ROSE(Class ~ ., data  = train)$data \n",
    "\n",
    "table(rose_train$Class) "
   ]
  },
  {
   "cell_type": "markdown",
   "metadata": {},
   "source": [
    "#### We choose CART(classification and regression tree) as first model.\n",
    "\n",
    "Before we start using sampling let us first look at how CART performs with imbalanced data. We use the function roc.curve available in the ROSE package to gauge model performance on the test set."
   ]
  },
  {
   "cell_type": "code",
   "execution_count": 42,
   "metadata": {},
   "outputs": [
    {
     "data": {
      "text/plain": [
       "Area under the curve (AUC): 0.912"
      ]
     },
     "metadata": {},
     "output_type": "display_data"
    },
    {
     "data": {
      "image/png": "[encoded data removed]",
      "text/plain": [
       "Plot with title \"ROC curve\""
      ]
     },
     "metadata": {},
     "output_type": "display_data"
    }
   ],
   "source": [
    "#CART Model Performance on imbalanced data\n",
    "set.seed(5627)\n",
    "\n",
    "orig_fit <- rpart(Class ~ ., data = train)\n",
    "\n",
    "#Evaluate model performance on test set\n",
    "pred_orig <- predict(orig_fit, newdata = test, method = \"class\")\n",
    "\n",
    "roc.curve(test$Class, pred_orig[,2], plotit = TRUE)"
   ]
  },
  {
   "cell_type": "markdown",
   "metadata": {},
   "source": [
    "We evaluate the model performance on test data by finding the roc auc score\n",
    "\n",
    "We see that the auc score on the original dataset is 0.912 . We will now apply various sampling techniques to the data and see the performance on the test set."
   ]
  },
  {
   "cell_type": "code",
   "execution_count": 44,
   "metadata": {},
   "outputs": [],
   "source": [
    "set.seed(5627)\n",
    "# Build down-sampled model\n",
    "\n",
    "\n",
    "down_fit <- rpart(Class ~ ., data = down_train)\n",
    "\n",
    "\n",
    "set.seed(5627)\n",
    "# Build up-sampled model\n",
    "\n",
    "\n",
    "up_fit <- rpart(Class ~ ., data = up_train)\n",
    "\n",
    "\n",
    "set.seed(5627)\n",
    "# Build smote model\n",
    "\n",
    "\n",
    "smote_fit <- rpart(Class ~ ., data = smote_train)\n",
    "\n",
    "set.seed(5627)\n",
    "# Build rose model\n",
    "rose_fit <- rpart(Class ~ ., data = rose_train)"
   ]
  },
  {
   "cell_type": "code",
   "execution_count": 45,
   "metadata": {},
   "outputs": [
    {
     "name": "stdout",
     "output_type": "stream",
     "text": [
      "[1] \"Fitting downsampled model to test data\"\n"
     ]
    }
   ],
   "source": [
    "pred_down <- predict(down_fit, newdata = test)\n",
    "\n",
    "print('Fitting downsampled model to test data')"
   ]
  },
  {
   "cell_type": "code",
   "execution_count": 47,
   "metadata": {},
   "outputs": [
    {
     "data": {
      "text/plain": [
       "Area under the curve (AUC): 0.942"
      ]
     },
     "metadata": {},
     "output_type": "display_data"
    }
   ],
   "source": [
    "roc.curve(test$Class, pred_down[,2], plotit = FALSE)"
   ]
  },
  {
   "cell_type": "code",
   "execution_count": 49,
   "metadata": {},
   "outputs": [
    {
     "name": "stdout",
     "output_type": "stream",
     "text": [
      "[1] \"Fitting upsampled model to test data\"\n"
     ]
    }
   ],
   "source": [
    "pred_up <- predict(up_fit, newdata = test)\n",
    "\n",
    "print('Fitting upsampled model to test data')"
   ]
  },
  {
   "cell_type": "code",
   "execution_count": 51,
   "metadata": {},
   "outputs": [
    {
     "data": {
      "text/plain": [
       "Area under the curve (AUC): 0.943"
      ]
     },
     "metadata": {},
     "output_type": "display_data"
    }
   ],
   "source": [
    "roc.curve(test$Class, pred_up[,2], plotit = FALSE)"
   ]
  },
  {
   "cell_type": "code",
   "execution_count": 53,
   "metadata": {},
   "outputs": [
    {
     "name": "stdout",
     "output_type": "stream",
     "text": [
      "[1] \"Fitting smote model to test data\"\n"
     ]
    }
   ],
   "source": [
    "pred_smote <- predict(smote_fit, newdata = test)\n",
    "\n",
    "print('Fitting smote model to test data')"
   ]
  },
  {
   "cell_type": "code",
   "execution_count": 54,
   "metadata": {},
   "outputs": [
    {
     "data": {
      "text/plain": [
       "Area under the curve (AUC): 0.934"
      ]
     },
     "metadata": {},
     "output_type": "display_data"
    }
   ],
   "source": [
    "roc.curve(test$Class, pred_smote[,2], plotit = FALSE)"
   ]
  },
  {
   "cell_type": "code",
   "execution_count": 55,
   "metadata": {},
   "outputs": [
    {
     "name": "stdout",
     "output_type": "stream",
     "text": [
      "[1] \"Fitting rose model to test data\"\n"
     ]
    }
   ],
   "source": [
    "pred_rose <- predict(rose_fit, newdata = test)\n",
    "\n",
    "print('Fitting rose model to test data')"
   ]
  },
  {
   "cell_type": "code",
   "execution_count": 56,
   "metadata": {},
   "outputs": [
    {
     "data": {
      "text/plain": [
       "Area under the curve (AUC): 0.942"
      ]
     },
     "metadata": {},
     "output_type": "display_data"
    }
   ],
   "source": [
    "roc.curve(test$Class, pred_rose[,2], plotit = FALSE)"
   ]
  },
  {
   "cell_type": "markdown",
   "metadata": {},
   "source": [
    "We see that all the sampling techniques have yielded better auc scores than the simple imbalanced dataset. We will test different models now using the up sampling technique as that has given the highest auc score.\n",
    "\n",
    "## Results\n",
    "Specifically the following models will be tested:\n",
    "\n",
    "- logistic regression (GLM)\n",
    "- random forest (RF)\n",
    "- xgboost (XGB) 1"
   ]
  },
  {
   "cell_type": "markdown",
   "metadata": {},
   "source": [
    "## GLM Fit"
   ]
  },
  {
   "cell_type": "code",
   "execution_count": 59,
   "metadata": {},
   "outputs": [
    {
     "name": "stderr",
     "output_type": "stream",
     "text": [
      "Warning message:\n",
      "\"glm.fit: fitted probabilities numerically 0 or 1 occurred\""
     ]
    },
    {
     "data": {
      "text/plain": [
       "Area under the curve (AUC): 0.971"
      ]
     },
     "metadata": {},
     "output_type": "display_data"
    },
    {
     "data": {
      "image/png": "[encoded data removed]",
      "text/plain": [
       "Plot with title \"ROC curve\""
      ]
     },
     "metadata": {},
     "output_type": "display_data"
    }
   ],
   "source": [
    "glm_fit <- glm(Class ~ ., data = up_train, family = 'binomial')\n",
    "\n",
    "pred_glm <- predict(glm_fit, newdata = test, type = 'response')\n",
    "\n",
    "roc.curve(test$Class, pred_glm, plotit = TRUE)"
   ]
  },
  {
   "cell_type": "markdown",
   "metadata": {},
   "source": [
    "## RF Fit (we use the Rborist package)"
   ]
  },
  {
   "cell_type": "code",
   "execution_count": 61,
   "metadata": {},
   "outputs": [
    {
     "data": {
      "text/plain": [
       "Area under the curve (AUC): 0.973"
      ]
     },
     "metadata": {},
     "output_type": "display_data"
    },
    {
     "data": {
      "image/png": "[encoded data removed]",
      "text/plain": [
       "Plot with title \"ROC curve\""
      ]
     },
     "metadata": {},
     "output_type": "display_data"
    }
   ],
   "source": [
    "x = up_train[, -30]\n",
    "y = up_train[,30]\n",
    "\n",
    "rf_fit <- Rborist(x, y, ntree = 1000, minNode = 20, maxLeaf = 13)\n",
    "\n",
    "\n",
    "rf_pred <- predict(rf_fit, test[,-30], ctgCensus = \"prob\")\n",
    "prob <- rf_pred$prob\n",
    "\n",
    "roc.curve(test$Class, prob[,2], plotit = TRUE)"
   ]
  },
  {
   "cell_type": "markdown",
   "metadata": {},
   "source": [
    "## XGB Fit"
   ]
  },
  {
   "cell_type": "code",
   "execution_count": 62,
   "metadata": {},
   "outputs": [],
   "source": [
    "#COnvert class labels from factor to numeric\n",
    "\n",
    "labels <- up_train$Class\n",
    "\n",
    "y <- recode(labels, 'Not_Fraud' = 0, \"Fraud\" = 1)"
   ]
  },
  {
   "cell_type": "code",
   "execution_count": 63,
   "metadata": {},
   "outputs": [
    {
     "name": "stderr",
     "output_type": "stream",
     "text": [
      "Warning message in xgb.train(params, dtrain, nrounds, watchlist, verbose = verbose, :\n",
      "\"xgb.train: `seed` is ignored in R package.  Use `set.seed()` instead.\""
     ]
    }
   ],
   "source": [
    "xgb <- xgboost(data = data.matrix(up_train[,-30]), \n",
    " label = y,\n",
    " eta = 0.1,\n",
    " gamma = 0.1,\n",
    " max_depth = 10, \n",
    " nrounds = 300, \n",
    " objective = \"binary:logistic\",\n",
    " colsample_bytree = 0.6,\n",
    " verbose = 0,\n",
    " nthread = 7,\n",
    " seed = 42\n",
    ")"
   ]
  },
  {
   "cell_type": "code",
   "execution_count": 64,
   "metadata": {},
   "outputs": [
    {
     "data": {
      "text/plain": [
       "Area under the curve (AUC): 0.977"
      ]
     },
     "metadata": {},
     "output_type": "display_data"
    },
    {
     "data": {
      "image/png": "[encoded data removed]",
      "text/plain": [
       "Plot with title \"ROC curve\""
      ]
     },
     "metadata": {},
     "output_type": "display_data"
    }
   ],
   "source": [
    "xgb_pred <- predict(xgb, data.matrix(test[,-30]))\n",
    "\n",
    "roc.curve(test$Class, xgb_pred, plotit = TRUE)"
   ]
  },
  {
   "cell_type": "markdown",
   "metadata": {},
   "source": [
    "We can also take a look at the important features here."
   ]
  },
  {
   "cell_type": "code",
   "execution_count": 65,
   "metadata": {},
   "outputs": [
    {
     "data": {
      "image/png": "[encoded data removed]",
      "text/plain": [
       "plot without title"
      ]
     },
     "metadata": {},
     "output_type": "display_data"
    }
   ],
   "source": [
    "names <- dimnames(data.matrix(up_train[,-30]))[[2]]\n",
    "\n",
    "# Compute feature importance matrix\n",
    "importance_matrix <- xgb.importance(names, model = xgb)\n",
    "# Nice graph\n",
    "xgb.plot.importance(importance_matrix[1:10,])"
   ]
  },
  {
   "cell_type": "markdown",
   "metadata": {},
   "source": [
    "With an auc score of 0.977 the XGBOOST model has performed the best though both the random forest and logistic regression models have shown reasonable performance.\n",
    "\n",
    "## Conclusion\n",
    "In this project I have tried to show different methods of dealing with unbalanced datasets like the fraud credit card transaction dataset where the instances of fraudulent cases is few compared to the instances of normal transactions. I have argued why accuracy is not an appropriate measure of model performance here and used the metric AREA UNDER ROC CURVE to evaluate how different methods of oversampling or undersampling the response variable can lead to better model training. I concluded that the oversampling technique works best on the dataset and achieved significant improvement in model performance over the imabalanced data. The best score of 0.977 was achieved using an XGBOOST model though both random forest and logistic regression models performed well too. It is likely that by further tuning the XGBOOST model paramteres I can achieve even better performance. However this exercise has demonstrated the importance of sampling ineffectively modelling and predicting data with an imbalanced dataset."
   ]
  },
  {
   "cell_type": "code",
   "execution_count": null,
   "metadata": {},
   "outputs": [],
   "source": []
  }
 ],
 "metadata": {
  "kernelspec": {
   "display_name": "R",
   "language": "R",
   "name": "ir"
  }
 },
 "nbformat": 4,
 "nbformat_minor": 4
}
